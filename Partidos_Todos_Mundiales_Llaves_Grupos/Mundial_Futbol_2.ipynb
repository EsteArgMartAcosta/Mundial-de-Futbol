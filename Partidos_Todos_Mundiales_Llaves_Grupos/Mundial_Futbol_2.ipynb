{
  "nbformat": 4,
  "nbformat_minor": 0,
  "metadata": {
    "colab": {
      "provenance": []
    },
    "kernelspec": {
      "name": "python3",
      "display_name": "Python 3"
    },
    "language_info": {
      "name": "python"
    }
  },
  "cells": [
    {
      "cell_type": "code",
      "execution_count": null,
      "metadata": {
        "colab": {
          "base_uri": "https://localhost:8080/"
        },
        "id": "JRipDQYrlNBl",
        "outputId": "614b4562-19f9-42e8-a994-72f3f5ecf5df"
      },
      "outputs": [
        {
          "output_type": "stream",
          "name": "stdout",
          "text": [
            "Requirement already satisfied: beautifulsoup4 in /usr/local/lib/python3.11/dist-packages (4.13.4)\n",
            "Requirement already satisfied: soupsieve>1.2 in /usr/local/lib/python3.11/dist-packages (from beautifulsoup4) (2.7)\n",
            "Requirement already satisfied: typing-extensions>=4.0.0 in /usr/local/lib/python3.11/dist-packages (from beautifulsoup4) (4.14.1)\n",
            "Requirement already satisfied: requests in /usr/local/lib/python3.11/dist-packages (2.32.3)\n",
            "Requirement already satisfied: charset-normalizer<4,>=2 in /usr/local/lib/python3.11/dist-packages (from requests) (3.4.2)\n",
            "Requirement already satisfied: idna<4,>=2.5 in /usr/local/lib/python3.11/dist-packages (from requests) (3.10)\n",
            "Requirement already satisfied: urllib3<3,>=1.21.1 in /usr/local/lib/python3.11/dist-packages (from requests) (2.5.0)\n",
            "Requirement already satisfied: certifi>=2017.4.17 in /usr/local/lib/python3.11/dist-packages (from requests) (2025.8.3)\n",
            "Requirement already satisfied: lxml in /usr/local/lib/python3.11/dist-packages (5.4.0)\n"
          ]
        }
      ],
      "source": [
        "!pip install beautifulsoup4\n",
        "!pip install requests\n",
        "!pip install lxml"
      ]
    },
    {
      "cell_type": "code",
      "source": [
        "import requests\n",
        "from bs4 import BeautifulSoup\n",
        "import pandas as pd"
      ],
      "metadata": {
        "id": "cskgMp6MlSR_"
      },
      "execution_count": 21,
      "outputs": []
    },
    {
      "cell_type": "code",
      "source": [
        "years = [1930,\n",
        " 1934,\n",
        " 1938,\n",
        " 1950,\n",
        " 1954,\n",
        " 1958,\n",
        " 1962,\n",
        " 1966,\n",
        " 1970,\n",
        " 1974,\n",
        " 1978,\n",
        " 1982,\n",
        " 1986,\n",
        " 1990,\n",
        " 1994,\n",
        " 1998,\n",
        " 2002,\n",
        " 2006,\n",
        " 2010,\n",
        " 2014,2018,2022]\n"
      ],
      "metadata": {
        "id": "A7tCjkZ_tGlc"
      },
      "execution_count": 38,
      "outputs": []
    },
    {
      "cell_type": "code",
      "source": [
        "def get_matches(year):\n",
        "  web = f'https://en.wikipedia.org/wiki/{year}_FIFA_World_Cup'\n",
        "  respuesta = requests.get(web)\n",
        "  contenido_pagina = respuesta.text\n",
        "\n",
        "  # Extraer la data de la página\n",
        "  soup = BeautifulSoup(contenido_pagina, 'lxml')\n",
        "  matches =soup.find_all('div', class_='footballbox') # Extraer la data de lo de football\n",
        "\n",
        "  home = []\n",
        "  score = []\n",
        "  away = []\n",
        "\n",
        "  for match in matches:\n",
        "    home.append(match.find('th', class_='fhome').get_text())\n",
        "    score.append(match.find('th', class_='fscore').get_text())\n",
        "    away.append(match.find('th', class_='faway').get_text())\n",
        "\n",
        "  dict_football = {'home': home, 'score': score, 'away': away}\n",
        "  df_football = pd.DataFrame(dict_football)\n",
        "  df_football['year'] = '2014'\n",
        "\n",
        "  return df_football\n",
        "\n"
      ],
      "metadata": {
        "id": "cYAR3qyRtuwP"
      },
      "execution_count": 39,
      "outputs": []
    },
    {
      "cell_type": "code",
      "source": [
        "fifa = [get_matches(year) for year in years]\n"
      ],
      "metadata": {
        "id": "5CbrfqIGyxw4"
      },
      "execution_count": 43,
      "outputs": []
    },
    {
      "cell_type": "code",
      "source": [
        "# Historical data\n",
        "df_fifa = pd.concat(fifa, ignore_index=True)\n",
        "df_fifa.to_csv('fifa_worldcup_historical_data.csv', index=False)"
      ],
      "metadata": {
        "id": "8mJekTxXlVXr"
      },
      "execution_count": 44,
      "outputs": []
    },
    {
      "cell_type": "code",
      "source": [
        "# Fixture\n",
        "df_fixture = get_matches('2022')\n",
        "df_fixture.to_csv('fifa_worldcup_fixture.csv', index=False)\n"
      ],
      "metadata": {
        "id": "1c8s6nARnEzm"
      },
      "execution_count": 45,
      "outputs": []
    }
  ]
}